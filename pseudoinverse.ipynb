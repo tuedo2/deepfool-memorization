{
 "cells": [
  {
   "cell_type": "code",
   "execution_count": 1,
   "id": "ad6ea368",
   "metadata": {},
   "outputs": [],
   "source": [
    "import torch\n",
    "import torch.nn as nn\n",
    "import torch.nn.functional as F\n",
    "import torchvision\n",
    "from torch.utils.data import Dataset, DataLoader\n",
    "from torchvision import transforms\n",
    "from torch.autograd import Variable\n",
    "import copy\n",
    "\n",
    "import numpy as np\n",
    "import matplotlib.pyplot as plt\n",
    "\n",
    "from curv_scoring import get_curv_scores_for_net\n",
    "from utils import full_train"
   ]
  },
  {
   "cell_type": "code",
   "execution_count": 2,
   "id": "7e650fa3",
   "metadata": {},
   "outputs": [],
   "source": [
    "class SubsetTransformDataset(Dataset):\n",
    "    def __init__(self, dataset, subset_indices, subset_transform=None, default_transform=None):\n",
    "        \"\"\"\n",
    "        Args:\n",
    "            dataset (Dataset): The original dataset.\n",
    "            subset_indices (list or range): The indices for the subset to apply the transform.\n",
    "            subset_transform (callable, optional): A function/transform to apply to the subset.\n",
    "            default_transform (callable, optional): A function/transform to apply to the entire datset first.\n",
    "        \"\"\"\n",
    "        self.dataset = dataset\n",
    "        self.subset_indices = subset_indices\n",
    "        self.subset_transform = subset_transform\n",
    "        self.default_transform = default_transform\n",
    "\n",
    "    def __len__(self):\n",
    "        return len(self.dataset)\n",
    "\n",
    "    def __getitem__(self, idx):\n",
    "        image, label = self.dataset[idx]\n",
    "        if self.default_transform:\n",
    "            image = self.default_transform(image)\n",
    "\n",
    "        # Apply the transform only to the subset\n",
    "        if idx in self.subset_indices and self.subset_transform:\n",
    "            image = self.subset_transform(image)\n",
    "\n",
    "        return image, label\n"
   ]
  },
  {
   "cell_type": "code",
   "execution_count": 3,
   "id": "79ab345c",
   "metadata": {},
   "outputs": [],
   "source": [
    "class Pseudoinverse:\n",
    "    def __call__(self, img):\n",
    "        \"\"\"\n",
    "        Replace the given image with a perturbed image per deepfool attack.\n",
    "        \"\"\"\n",
    "        img = torch.from_numpy(np.linalg.pinv(img.numpy()))\n",
    "        img = img / torch.max(img)\n",
    "        # img = transforms.GaussianBlur()\n",
    "\n",
    "        return img"
   ]
  },
  {
   "cell_type": "code",
   "execution_count": 4,
   "id": "93b41758",
   "metadata": {},
   "outputs": [],
   "source": [
    "mnist = torchvision.datasets.MNIST(root='./data', train=True, transform=transforms.ToTensor(), download=False)"
   ]
  },
  {
   "cell_type": "code",
   "execution_count": 8,
   "id": "616dc389",
   "metadata": {},
   "outputs": [],
   "source": [
    "kmnist = torchvision.datasets.KMNIST(root='./data', train=True, transform=transforms.ToTensor(), download=False)"
   ]
  },
  {
   "cell_type": "code",
   "execution_count": 10,
   "id": "8fcf88b4",
   "metadata": {},
   "outputs": [
    {
     "data": {
      "text/plain": [
       "<matplotlib.image.AxesImage at 0x16f528fe1e0>"
      ]
     },
     "execution_count": 10,
     "metadata": {},
     "output_type": "execute_result"
    },
    {
     "data": {
      "image/png": "[encoded data removed]",
      "text/plain": [
       "<Figure size 640x480 with 1 Axes>"
      ]
     },
     "metadata": {},
     "output_type": "display_data"
    }
   ],
   "source": [
    "testpinv = SubsetTransformDataset(mnist, torch.arange(10), Pseudoinverse())\n",
    "plt.imshow(testpinv[0][0].numpy().squeeze(), cmap='gray')"
   ]
  },
  {
   "cell_type": "code",
   "execution_count": 5,
   "id": "4f9eccec",
   "metadata": {},
   "outputs": [],
   "source": [
    "fake_data = torchvision.datasets.FakeData(len(mnist), image_size=(1, 28, 28), num_classes=10, transform=transforms.ToTensor())"
   ]
  },
  {
   "cell_type": "code",
   "execution_count": 6,
   "id": "979e5c34",
   "metadata": {},
   "outputs": [],
   "source": [
    "class ReplaceWithDataset:\n",
    "    def __init__(self, replace_dataset):\n",
    "        \"\"\"\n",
    "        Args:\n",
    "            replace_dataset (Dataset): The dataset to pick images from.\n",
    "        \"\"\"\n",
    "        self.replace_dataset = replace_dataset\n",
    "\n",
    "    def __call__(self, img):\n",
    "        \"\"\"\n",
    "        Replace the given image with an image from replacement dataset.\n",
    "        \"\"\"\n",
    "        img, _ = self.replace_dataset[np.random.randint(0, len(self.replace_dataset))]\n",
    "\n",
    "        return img"
   ]
  },
  {
   "cell_type": "code",
   "execution_count": null,
   "id": "b3a5a191",
   "metadata": {},
   "outputs": [],
   "source": [
    "sizes = [1, 10, 100, 1000, 10000]\n",
    "\n",
    "for size in sizes:\n",
    "    print(f'Size {size}:')\n",
    "    for i in range(5):\n",
    "        print(f'Saving scores for run {i+1}...')\n",
    "        subset_idx = torch.randperm(len(mnist))[:size]\n",
    "        fake_dataset = SubsetTransformDataset(mnist, subset_idx, ReplaceWithDataset(fake_data))\n",
    "        net = full_train(fake_dataset)\n",
    "        scores = get_curv_scores_for_net(fake_dataset, net)\n",
    "        score_dict = dict(subset=subset_idx, scores=scores)\n",
    "        np.savez(f'mnist_curv_scores/fakedata_{size}/run_{i+1}', **score_dict)"
   ]
  },
  {
   "cell_type": "code",
   "execution_count": 9,
   "id": "70fb428f",
   "metadata": {},
   "outputs": [
    {
     "name": "stdout",
     "output_type": "stream",
     "text": [
      "Size 1:\n",
      "Saving scores for run 1...\n",
      "Saving scores for run 2...\n",
      "Saving scores for run 3...\n",
      "Saving scores for run 4...\n",
      "Saving scores for run 5...\n",
      "Size 10:\n",
      "Saving scores for run 1...\n",
      "Saving scores for run 2...\n",
      "Saving scores for run 3...\n",
      "Saving scores for run 4...\n",
      "Saving scores for run 5...\n",
      "Size 100:\n",
      "Saving scores for run 1...\n",
      "Saving scores for run 2...\n",
      "Saving scores for run 3...\n",
      "Saving scores for run 4...\n",
      "Saving scores for run 5...\n",
      "Size 1000:\n",
      "Saving scores for run 1...\n",
      "Saving scores for run 2...\n",
      "Saving scores for run 3...\n",
      "Saving scores for run 4...\n",
      "Saving scores for run 5...\n",
      "Size 10000:\n",
      "Saving scores for run 1...\n",
      "Saving scores for run 2...\n",
      "Saving scores for run 3...\n",
      "Saving scores for run 4...\n",
      "Saving scores for run 5...\n"
     ]
    }
   ],
   "source": [
    "sizes = [1, 10, 100, 1000, 10000]\n",
    "\n",
    "for size in sizes:\n",
    "    print(f'Size {size}:')\n",
    "    for i in range(5):\n",
    "        print(f'Saving scores for run {i+1}...')\n",
    "        subset_idx = torch.randperm(len(mnist))[:size]\n",
    "        fake_dataset = SubsetTransformDataset(mnist, subset_idx, ReplaceWithDataset(kmnist))\n",
    "        net = full_train(fake_dataset)\n",
    "        scores = get_curv_scores_for_net(fake_dataset, net)\n",
    "        score_dict = dict(subset=subset_idx, scores=scores)\n",
    "        np.savez(f'mnist_curv_scores/kmnist_{size}/run_{i+1}', **score_dict)"
   ]
  },
  {
   "cell_type": "code",
   "execution_count": null,
   "id": "6624e51c",
   "metadata": {},
   "outputs": [
    {
     "name": "stdout",
     "output_type": "stream",
     "text": [
      "Size 1:\n",
      "Saving scores for run 1...\n",
      "tensor([8.6720e-04, 2.0756e-07, 7.9033e-06, 3.9040e-06, 7.0741e-06, 2.7800e-06,\n",
      "        3.7662e-07, 1.7736e-09, 1.2147e-06, 3.7118e-07])\n",
      "Saving scores for run 2...\n",
      "tensor([1.7404e-05, 5.0001e-08, 6.0634e-06, 1.5980e-03, 1.3096e-05, 8.9530e-05,\n",
      "        6.8716e-04, 2.0577e-07, 1.8706e-04, 8.5063e-07])\n",
      "Saving scores for run 3...\n",
      "tensor([2.3726e-04, 1.2967e-08, 1.3745e-06, 2.5289e-06, 2.9861e-05, 3.4528e-06,\n",
      "        7.7486e-08, 8.1045e-09, 3.9198e-06, 7.2246e-09])\n",
      "Saving scores for run 4...\n",
      "tensor([6.2443e-05, 1.5060e-07, 1.3084e-06, 3.1198e-06, 3.0482e-06, 3.1796e-07,\n",
      "        4.4444e-07, 1.8231e-07, 2.0137e-06, 5.4855e-08])\n",
      "Saving scores for run 5...\n",
      "tensor([2.3237e-05, 8.0696e-09, 5.8960e-07, 8.5562e-07, 3.4567e-06, 3.2191e-07,\n",
      "        4.1473e-07, 7.2525e-08, 5.6542e-07, 5.1798e-08])\n",
      "Size 10:\n",
      "Saving scores for run 1...\n",
      "tensor([3.7061e-05, 1.4702e-08, 9.3176e-07, 4.0280e-06, 1.3783e-05, 1.7400e-06,\n",
      "        1.2035e-06, 6.2562e-08, 4.8239e-06, 2.2255e-08])\n",
      "Saving scores for run 2...\n",
      "tensor([4.0864e-05, 8.8597e-08, 1.2184e-06, 1.8424e-05, 1.5733e-05, 2.4484e-07,\n",
      "        6.4848e-06, 3.5842e-07, 1.5036e-05, 6.2431e-08])\n",
      "Saving scores for run 3...\n",
      "tensor([1.2233e-03, 3.1286e-09, 7.9023e-07, 8.6568e-07, 1.8243e-04, 1.0040e-06,\n",
      "        2.4837e-08, 6.8098e-10, 6.7526e-07, 5.9148e-08])\n",
      "Saving scores for run 4...\n",
      "tensor([1.8123e-04, 1.2223e-07, 4.9131e-06, 3.4623e-06, 4.8170e-05, 5.2621e-07,\n",
      "        2.1801e-06, 2.8954e-09, 4.2290e-06, 7.7302e-07])\n",
      "Saving scores for run 5...\n",
      "tensor([1.3414e-07, 3.3704e-06, 1.9793e-06, 1.7279e-07, 3.5188e-06, 2.2055e-06,\n",
      "        6.7150e-08, 6.8330e-06, 1.7492e-06, 9.6278e-08])\n",
      "Size 100:\n",
      "Saving scores for run 1...\n",
      "tensor([8.3292e-04, 6.7735e-08, 1.4825e-06, 3.0929e-04, 1.3876e-05, 1.4741e-06,\n",
      "        1.2107e-04, 5.1672e-08, 4.6936e-05, 3.7049e-08])\n",
      "Saving scores for run 2...\n",
      "tensor([1.8780e-06, 5.8053e-08, 1.6407e-05, 1.1935e-06, 9.0098e-08, 5.8884e-07,\n",
      "        9.6761e-08, 1.4954e-05, 1.9773e-06, 4.8384e-08])\n",
      "Saving scores for run 3...\n",
      "tensor([6.2692e-04, 5.7080e-09, 2.1103e-07, 1.1206e-06, 2.5428e-04, 6.7494e-07,\n",
      "        5.4791e-08, 4.0391e-08, 2.1185e-06, 8.8373e-09])\n",
      "Saving scores for run 4...\n",
      "tensor([7.6320e-05, 1.8351e-08, 1.9631e-06, 4.8652e-07, 1.9133e-05, 3.4325e-06,\n",
      "        1.3818e-07, 2.4187e-07, 1.3998e-06, 3.9796e-07])\n",
      "Saving scores for run 5...\n",
      "tensor([3.1213e-04, 2.9171e-08, 1.3135e-06, 4.2097e-07, 1.7162e-05, 8.4242e-07,\n",
      "        1.2549e-07, 1.6774e-07, 5.1099e-07, 6.0068e-08])\n",
      "Size 1000:\n",
      "Saving scores for run 1...\n",
      "tensor([3.8639e-04, 1.5539e-08, 1.2132e-06, 1.0425e-06, 2.7072e-05, 2.0507e-06,\n",
      "        1.1662e-06, 8.4991e-07, 2.8735e-06, 2.7084e-08])\n",
      "Saving scores for run 2...\n",
      "tensor([1.7740e-06, 2.4456e-05, 4.0166e-06, 1.5643e-05, 3.9090e-07, 2.0802e-04,\n",
      "        1.4568e-06, 2.1081e-06, 5.3960e-06, 1.9374e-07])\n",
      "Saving scores for run 3...\n",
      "tensor([8.5142e-05, 3.4344e-08, 8.7384e-07, 6.3552e-07, 2.6134e-05, 6.1825e-07,\n",
      "        2.1021e-07, 4.4731e-08, 1.6903e-06, 5.3062e-08])\n",
      "Saving scores for run 4...\n",
      "tensor([1.6951e-04, 2.9382e-08, 1.3458e-06, 8.2800e-07, 1.0300e-05, 1.5319e-06,\n",
      "        2.1193e-07, 4.0646e-08, 1.5099e-06, 1.1418e-08])\n",
      "Saving scores for run 5...\n",
      "tensor([1.8516e-05, 1.4541e-07, 3.4066e-06, 6.5620e-07, 9.5809e-07, 2.4455e-06,\n",
      "        1.4857e-07, 1.1541e-06, 2.0752e-06, 2.2401e-07])\n",
      "Size 10000:\n",
      "Saving scores for run 1...\n",
      "tensor([1.0671e-03, 7.9820e-04, 1.4104e-06, 4.7381e-05, 2.0046e-05, 3.4840e-08,\n",
      "        6.4623e-06, 2.2264e-03, 6.1554e-03, 1.6819e-06])\n",
      "Saving scores for run 2...\n",
      "tensor([7.1049e-04, 7.1143e-08, 1.1027e-06, 8.9739e-07, 5.1089e-04, 6.2508e-07,\n",
      "        1.5111e-07, 7.1680e-08, 1.2030e-06, 3.1309e-07])\n",
      "Saving scores for run 3...\n",
      "tensor([9.9631e-04, 2.6880e-06, 1.5080e-06, 7.9812e-06, 3.6410e-06, 1.2222e-05,\n",
      "        6.2305e-03, 5.5071e-08, 4.4343e-06, 1.0876e-07])\n",
      "Saving scores for run 4...\n",
      "tensor([2.9418e-03, 1.2724e-08, 1.8362e-06, 4.2873e-06, 6.9244e-06, 3.1555e-06,\n",
      "        1.2978e-07, 5.5321e-08, 2.0224e-06, 1.9453e-07])\n",
      "Saving scores for run 5...\n",
      "tensor([1.4208e-05, 1.0788e-08, 1.0565e-03, 3.5742e-06, 8.2959e-07, 1.9785e-06,\n",
      "        1.1256e-06, 5.9588e-07, 6.4327e-06, 3.4238e-08])\n"
     ]
    }
   ],
   "source": [
    "sizes = [1, 10, 100, 1000, 10000]\n",
    "\n",
    "for size in sizes:\n",
    "    print(f'Size {size}:')\n",
    "    for i in range(5):\n",
    "        print(f'Saving scores for run {i+1}...')\n",
    "        subset_idx = torch.randperm(len(mnist))[:size]\n",
    "        fake_dataset = SubsetTransformDataset(mnist, subset_idx, Pseudoinverse())\n",
    "        net = full_train(fake_dataset)\n",
    "        scores = get_curv_scores_for_net(fake_dataset, net)\n",
    "        print(scores[:10])\n",
    "        score_dict = dict(subset=subset_idx, scores=scores)\n",
    "        np.savez(f'mnist_curv_scores/pinv_{size}/run_{i+1}', **score_dict)"
   ]
  },
  {
   "cell_type": "code",
   "execution_count": null,
   "id": "f7231e1d",
   "metadata": {},
   "outputs": [],
   "source": []
  }
 ],
 "metadata": {
  "kernelspec": {
   "display_name": "base",
   "language": "python",
   "name": "python3"
  },
  "language_info": {
   "codemirror_mode": {
    "name": "ipython",
    "version": 3
   },
   "file_extension": ".py",
   "mimetype": "text/x-python",
   "name": "python",
   "nbconvert_exporter": "python",
   "pygments_lexer": "ipython3",
   "version": "3.12.3"
  }
 },
 "nbformat": 4,
 "nbformat_minor": 5
}

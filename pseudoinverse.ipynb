{
 "cells": [
  {
   "cell_type": "code",
   "execution_count": 1,
   "id": "ad6ea368",
   "metadata": {},
   "outputs": [],
   "source": [
    "import torch\n",
    "import torch.nn as nn\n",
    "import torch.nn.functional as F\n",
    "import torchvision\n",
    "from torch.utils.data import Dataset, DataLoader\n",
    "from torchvision import transforms\n",
    "from torch.autograd import Variable\n",
    "import copy\n",
    "\n",
    "import numpy as np\n",
    "import matplotlib.pyplot as plt\n",
    "\n",
    "from curv_scoring import get_curv_scores_for_net\n",
    "from utils import full_train"
   ]
  },
  {
   "cell_type": "code",
   "execution_count": 2,
   "id": "7e650fa3",
   "metadata": {},
   "outputs": [],
   "source": [
    "class SubsetTransformDataset(Dataset):\n",
    "    def __init__(self, dataset, subset_indices, subset_transform=None, default_transform=None):\n",
    "        \"\"\"\n",
    "        Args:\n",
    "            dataset (Dataset): The original dataset.\n",
    "            subset_indices (list or range): The indices for the subset to apply the transform.\n",
    "            subset_transform (callable, optional): A function/transform to apply to the subset.\n",
    "            default_transform (callable, optional): A function/transform to apply to the entire datset first.\n",
    "        \"\"\"\n",
    "        self.dataset = dataset\n",
    "        self.subset_indices = subset_indices\n",
    "        self.subset_transform = subset_transform\n",
    "        self.default_transform = default_transform\n",
    "\n",
    "    def __len__(self):\n",
    "        return len(self.dataset)\n",
    "\n",
    "    def __getitem__(self, idx):\n",
    "        image, label = self.dataset[idx]\n",
    "        if self.default_transform:\n",
    "            image = self.default_transform(image)\n",
    "\n",
    "        # Apply the transform only to the subset\n",
    "        if idx in self.subset_indices and self.subset_transform:\n",
    "            image = self.subset_transform(image)\n",
    "\n",
    "        return image, label\n"
   ]
  },
  {
   "cell_type": "code",
   "execution_count": 8,
   "id": "79ab345c",
   "metadata": {},
   "outputs": [],
   "source": [
    "class Pseudoinverse:\n",
    "    def __call__(self, img):\n",
    "        \"\"\"\n",
    "        Replace the given image with a perturbed image per deepfool attack.\n",
    "        \"\"\"\n",
    "        img = torch.from_numpy(np.linalg.pinv(img.numpy()))\n",
    "\n",
    "        return img"
   ]
  },
  {
   "cell_type": "code",
   "execution_count": 9,
   "id": "93b41758",
   "metadata": {},
   "outputs": [],
   "source": [
    "mnist = torchvision.datasets.MNIST(root='./data', train=True, transform=transforms.ToTensor(), download=False)"
   ]
  },
  {
   "cell_type": "code",
   "execution_count": 27,
   "id": "4f9eccec",
   "metadata": {},
   "outputs": [],
   "source": [
    "fake_data = torchvision.datasets.FakeData(len(mnist), image_size=(1, 28, 28), num_classes=10, transform=transforms.ToTensor())"
   ]
  },
  {
   "cell_type": "code",
   "execution_count": 24,
   "id": "979e5c34",
   "metadata": {},
   "outputs": [],
   "source": [
    "class ReplaceWithDataset:\n",
    "    def __init__(self, replace_dataset):\n",
    "        \"\"\"\n",
    "        Args:\n",
    "            replace_dataset (Dataset): The dataset to pick images from.\n",
    "        \"\"\"\n",
    "        self.replace_dataset = replace_dataset\n",
    "\n",
    "    def __call__(self, img):\n",
    "        \"\"\"\n",
    "        Replace the given image with an image from replacement dataset.\n",
    "        \"\"\"\n",
    "        img, _ = self.replace_dataset[np.random.randint(0, len(self.replace_dataset))]\n",
    "\n",
    "        return img"
   ]
  },
  {
   "cell_type": "code",
   "execution_count": 28,
   "id": "b3a5a191",
   "metadata": {},
   "outputs": [
    {
     "name": "stdout",
     "output_type": "stream",
     "text": [
      "Size 1:\n",
      "Saving scores for run 1...\n",
      "Saving scores for run 2...\n",
      "Saving scores for run 3...\n",
      "Saving scores for run 4...\n",
      "Saving scores for run 5...\n",
      "Size 10:\n",
      "Saving scores for run 1...\n",
      "Saving scores for run 2...\n",
      "Saving scores for run 3...\n",
      "Saving scores for run 4...\n",
      "Saving scores for run 5...\n",
      "Size 100:\n",
      "Saving scores for run 1...\n",
      "Saving scores for run 2...\n",
      "Saving scores for run 3...\n",
      "Saving scores for run 4...\n",
      "Saving scores for run 5...\n",
      "Size 1000:\n",
      "Saving scores for run 1...\n",
      "Saving scores for run 2...\n",
      "Saving scores for run 3...\n",
      "Saving scores for run 4...\n",
      "Saving scores for run 5...\n",
      "Size 10000:\n",
      "Saving scores for run 1...\n",
      "Saving scores for run 2...\n",
      "Saving scores for run 3...\n",
      "Saving scores for run 4...\n",
      "Saving scores for run 5...\n"
     ]
    }
   ],
   "source": [
    "sizes = [1, 10, 100, 1000, 10000]\n",
    "\n",
    "for size in sizes:\n",
    "    print(f'Size {size}:')\n",
    "    for i in range(5):\n",
    "        print(f'Saving scores for run {i+1}...')\n",
    "        subset_idx = torch.randperm(len(mnist))[:size]\n",
    "        fake_dataset = SubsetTransformDataset(mnist, subset_idx, ReplaceWithDataset(fake_data))\n",
    "        net = full_train(fake_dataset)\n",
    "        scores = get_curv_scores_for_net(fake_dataset, net)\n",
    "        score_dict = dict(subset=subset_idx, scores=scores)\n",
    "        np.savez(f'mnist_curv_scores/fakedata_{size}/run_{i+1}', **score_dict)"
   ]
  },
  {
   "cell_type": "code",
   "execution_count": 29,
   "id": "6624e51c",
   "metadata": {},
   "outputs": [
    {
     "name": "stdout",
     "output_type": "stream",
     "text": [
      "Size 1:\n",
      "Saving scores for run 1...\n",
      "Saving scores for run 2...\n",
      "Saving scores for run 3...\n",
      "Saving scores for run 4...\n",
      "Saving scores for run 5...\n",
      "Size 10:\n",
      "Saving scores for run 1...\n",
      "Saving scores for run 2...\n",
      "Saving scores for run 3...\n",
      "Saving scores for run 4...\n",
      "Saving scores for run 5...\n",
      "Size 100:\n",
      "Saving scores for run 1...\n",
      "Saving scores for run 2...\n",
      "Saving scores for run 3...\n",
      "Saving scores for run 4...\n",
      "Saving scores for run 5...\n",
      "Size 1000:\n",
      "Saving scores for run 1...\n",
      "Saving scores for run 2...\n",
      "Saving scores for run 3...\n",
      "Saving scores for run 4...\n",
      "Saving scores for run 5...\n",
      "Size 10000:\n",
      "Saving scores for run 1...\n",
      "Saving scores for run 2...\n",
      "Saving scores for run 3...\n",
      "Saving scores for run 4...\n",
      "Saving scores for run 5...\n"
     ]
    }
   ],
   "source": [
    "sizes = [1, 10, 100, 1000, 10000]\n",
    "\n",
    "for size in sizes:\n",
    "    print(f'Size {size}:')\n",
    "    for i in range(5):\n",
    "        print(f'Saving scores for run {i+1}...')\n",
    "        subset_idx = torch.randperm(len(mnist))[:size]\n",
    "        fake_dataset = SubsetTransformDataset(mnist, subset_idx, Pseudoinverse())\n",
    "        net = full_train(fake_dataset)\n",
    "        scores = get_curv_scores_for_net(fake_dataset, net)\n",
    "        score_dict = dict(subset=subset_idx, scores=scores)\n",
    "        np.savez(f'mnist_curv_scores/pinv_{size}/run_{i+1}', **score_dict)"
   ]
  },
  {
   "cell_type": "code",
   "execution_count": null,
   "id": "3a8a5cd5",
   "metadata": {},
   "outputs": [],
   "source": []
  }
 ],
 "metadata": {
  "kernelspec": {
   "display_name": "base",
   "language": "python",
   "name": "python3"
  },
  "language_info": {
   "codemirror_mode": {
    "name": "ipython",
    "version": 3
   },
   "file_extension": ".py",
   "mimetype": "text/x-python",
   "name": "python",
   "nbconvert_exporter": "python",
   "pygments_lexer": "ipython3",
   "version": "3.12.3"
  }
 },
 "nbformat": 4,
 "nbformat_minor": 5
}

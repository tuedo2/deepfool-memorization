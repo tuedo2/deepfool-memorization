{
 "cells": [
  {
   "cell_type": "code",
   "execution_count": 1,
   "metadata": {},
   "outputs": [],
   "source": [
    "import torch\n",
    "import torch.nn as nn\n",
    "import torch.nn.functional as F\n",
    "import torchvision\n",
    "from torch.utils.data import Dataset, DataLoader\n",
    "from torchvision import transforms\n",
    "from torch.autograd import Variable\n",
    "import copy\n",
    "\n",
    "import numpy as np\n",
    "import matplotlib.pyplot as plt\n",
    "\n",
    "from curv_scoring import get_curv_scores_for_net\n",
    "from utils import full_train"
   ]
  },
  {
   "cell_type": "code",
   "execution_count": 2,
   "metadata": {},
   "outputs": [],
   "source": [
    "class SubsetTransformDataset(Dataset):\n",
    "    def __init__(self, dataset, subset_indices, subset_transform=None, default_transform=None):\n",
    "        \"\"\"\n",
    "        Args:\n",
    "            dataset (Dataset): The original dataset.\n",
    "            subset_indices (list or range): The indices for the subset to apply the transform.\n",
    "            subset_transform (callable, optional): A function/transform to apply to the subset.\n",
    "            default_transform (callable, optional): A function/transform to apply to the entire datset first.\n",
    "        \"\"\"\n",
    "        self.dataset = dataset\n",
    "        self.subset_indices = subset_indices\n",
    "        self.subset_transform = subset_transform\n",
    "        self.default_transform = default_transform\n",
    "\n",
    "    def __len__(self):\n",
    "        return len(self.dataset)\n",
    "\n",
    "    def __getitem__(self, idx):\n",
    "        image, label = self.dataset[idx]\n",
    "        if self.default_transform:\n",
    "            image = self.default_transform(image)\n",
    "\n",
    "        # Apply the transform only to the subset\n",
    "        if idx in self.subset_indices and self.subset_transform:\n",
    "            image = self.subset_transform(image)\n",
    "\n",
    "        return image, label\n"
   ]
  },
  {
   "cell_type": "code",
   "execution_count": 3,
   "metadata": {},
   "outputs": [],
   "source": [
    "class ReplaceWithDataset: # Transform\n",
    "    def __init__(self, replace_dataset):\n",
    "        \"\"\"\n",
    "        Args:\n",
    "            replace_dataset (Dataset): The dataset to pick images from.\n",
    "        \"\"\"\n",
    "        self.replace_dataset = replace_dataset\n",
    "\n",
    "    def __call__(self, img):\n",
    "        \"\"\"\n",
    "        Replace the given image with an image from replacement dataset.\n",
    "        \"\"\"\n",
    "        # Randomly pick an index from the replacement dataset\n",
    "        img, _ = self.replace_dataset[np.random.randint(0, len(self.replace_dataset))]\n",
    "        \n",
    "        # Resize if necessary (FashionMNIST is 28x28, make sure EMNIST image matches)\n",
    "        if img.shape[1] != 28 or img.shape[2] != 28:\n",
    "            img = transforms.Resize((28, 28))(img)\n",
    "\n",
    "        return img"
   ]
  },
  {
   "cell_type": "code",
   "execution_count": 4,
   "metadata": {},
   "outputs": [],
   "source": [
    "def deepfool(image, net, num_classes=10, overshoot=0.02, max_iter=50):\n",
    "\n",
    "    \"\"\"\n",
    "       :param image: Image\n",
    "       :param net: network (input: images, output: values of activation **BEFORE** softmax).\n",
    "       :param num_classes: num_classes (limits the number of classes to test against, by default = 10)\n",
    "       :param overshoot: used as a termination criterion to prevent vanishing updates (default = 0.02).\n",
    "       :param max_iter: maximum number of iterations for deepfool (default = 50)\n",
    "       :return: minimal perturbation that fools the classifier, number of iterations that it required, new estimated_label and perturbed image\n",
    "    \"\"\"\n",
    "    is_cuda = torch.cuda.is_available()\n",
    "\n",
    "    if is_cuda:\n",
    "        # print(\"Using GPU\")\n",
    "        image = image.cuda()\n",
    "        net = net.cuda()\n",
    "\n",
    "\n",
    "    f_image = net.forward(Variable(image[None, :, :, :], requires_grad=True)).data.cpu().numpy().flatten()\n",
    "    I = (np.array(f_image)).flatten().argsort()[::-1]\n",
    "\n",
    "    I = I[0:num_classes]\n",
    "    label = I[0]\n",
    "\n",
    "    input_shape = image.cpu().numpy().shape\n",
    "    pert_image = copy.deepcopy(image)\n",
    "    w = np.zeros(input_shape)\n",
    "    r_tot = np.zeros(input_shape)\n",
    "\n",
    "    loop_i = 0\n",
    "\n",
    "    x = Variable(pert_image[None, :], requires_grad=True)\n",
    "    fs = net.forward(x)\n",
    "    # fs_list = [fs[0,I[k]] for k in range(num_classes)]\n",
    "    k_i = label\n",
    "\n",
    "    while k_i == label and loop_i < max_iter:\n",
    "\n",
    "        pert = np.inf\n",
    "        fs[0, I[0]].backward(retain_graph=True)\n",
    "        grad_orig = x.grad.data.cpu().numpy().copy()\n",
    "\n",
    "        for k in range(1, num_classes):\n",
    "            x.grad.zero_()\n",
    "\n",
    "            fs[0, I[k]].backward(retain_graph=True)\n",
    "            cur_grad = x.grad.data.cpu().numpy().copy()\n",
    "\n",
    "            # set new w_k and new f_k\n",
    "            w_k = cur_grad - grad_orig\n",
    "            f_k = (fs[0, I[k]] - fs[0, I[0]]).data.cpu().numpy()\n",
    "\n",
    "            pert_k = abs(f_k)/np.linalg.norm(w_k.flatten())\n",
    "\n",
    "            # determine which w_k to use\n",
    "            if pert_k < pert:\n",
    "                pert = pert_k\n",
    "                w = w_k\n",
    "\n",
    "        # compute r_i and r_tot\n",
    "        # Added 1e-4 for numerical stability\n",
    "        r_i =  (pert+1e-4) * w / np.linalg.norm(w)\n",
    "        r_tot = np.float32(r_tot + r_i)\n",
    "\n",
    "        if is_cuda:\n",
    "            pert_image = image + (1+overshoot)*torch.from_numpy(r_tot).cuda()\n",
    "        else:\n",
    "            pert_image = image + (1+overshoot)*torch.from_numpy(r_tot)\n",
    "\n",
    "        x = Variable(pert_image, requires_grad=True)\n",
    "        fs = net.forward(x)\n",
    "        k_i = np.argmax(fs.data.cpu().numpy().flatten())\n",
    "\n",
    "        loop_i += 1\n",
    "\n",
    "    pert_image = pert_image.reshape(image.shape)\n",
    "    \n",
    "    return pert_image"
   ]
  },
  {
   "cell_type": "code",
   "execution_count": 5,
   "metadata": {},
   "outputs": [],
   "source": [
    "class Deepfool:\n",
    "    def __init__(self, net, overshoot=0.02):\n",
    "        \"\"\"\n",
    "        Args:\n",
    "            net: the net trained on original dataset\n",
    "            overshoot: The amount of overshoot in deepfool attack\n",
    "        \"\"\"\n",
    "        self.net = net\n",
    "        self.overshoot = overshoot\n",
    "\n",
    "    def __call__(self, img):\n",
    "        \"\"\"\n",
    "        Replace the given image with a perturbed image per deepfool attack.\n",
    "        \"\"\"\n",
    "        img = deepfool(img, self.net).cpu()\n",
    "\n",
    "        return img"
   ]
  },
  {
   "cell_type": "code",
   "execution_count": 6,
   "metadata": {},
   "outputs": [],
   "source": [
    "fashion = torchvision.datasets.FashionMNIST(root='./data', train=True, download=False, transform=transforms.ToTensor())"
   ]
  },
  {
   "cell_type": "code",
   "execution_count": 7,
   "metadata": {},
   "outputs": [],
   "source": [
    "kmnist = torchvision.datasets.KMNIST(root='./data', train=True, download=False, transform=transforms.ToTensor())"
   ]
  },
  {
   "cell_type": "code",
   "execution_count": 65,
   "metadata": {},
   "outputs": [],
   "source": [
    "k_fashion = SubsetTransformDataset(fashion, torch.arange(1000), subset_transform=ReplaceWithDataset(kmnist))"
   ]
  },
  {
   "cell_type": "code",
   "execution_count": 66,
   "metadata": {},
   "outputs": [],
   "source": [
    "def plot_idx(dset, idx):\n",
    "    img, label = dset[idx]\n",
    "    img_np = img.squeeze().numpy()\n",
    "    plt.imshow(img_np, cmap='gray')\n",
    "    plt.title(f'Label: {label}')\n",
    "    plt.axis('off')\n",
    "    plt.show()"
   ]
  },
  {
   "cell_type": "code",
   "execution_count": 72,
   "metadata": {},
   "outputs": [
    {
     "data": {
      "image/png": "[encoded data removed]",
      "text/plain": [
       "<Figure size 640x480 with 1 Axes>"
      ]
     },
     "metadata": {},
     "output_type": "display_data"
    }
   ],
   "source": [
    "plot_idx(fashion, 100)"
   ]
  },
  {
   "cell_type": "code",
   "execution_count": 15,
   "metadata": {},
   "outputs": [
    {
     "name": "stdout",
     "output_type": "stream",
     "text": [
      "Saving scores for run 1...\n",
      "Saving scores for run 2...\n",
      "Saving scores for run 3...\n",
      "Saving scores for run 4...\n",
      "Saving scores for run 5...\n",
      "Saving scores for run 6...\n",
      "Saving scores for run 7...\n",
      "Saving scores for run 8...\n",
      "Saving scores for run 9...\n",
      "Saving scores for run 10...\n"
     ]
    }
   ],
   "source": [
    "for i in range(10):\n",
    "    print(f'Saving scores for run {i+1}...')\n",
    "    subset_idx = torch.randperm(len(fashion))[:500].numpy()\n",
    "    random_dset = SubsetTransformDataset(fashion, subset_indices=subset_idx, subset_transform=ReplaceWithDataset(kmnist))\n",
    "    net = full_train(random_dset)\n",
    "    scores = get_curv_scores_for_net(random_dset, net).cpu().numpy()\n",
    "    score_dict = dict(subset=subset_idx, scores=scores)\n",
    "    np.savez(f'curv_scores/random_500/run_{i+1}', **score_dict)\n"
   ]
  },
  {
   "cell_type": "code",
   "execution_count": 8,
   "metadata": {},
   "outputs": [],
   "source": [
    "basenet = full_train(fashion)"
   ]
  },
  {
   "cell_type": "code",
   "execution_count": 11,
   "metadata": {},
   "outputs": [
    {
     "name": "stdout",
     "output_type": "stream",
     "text": [
      "Saving scores for run 1...\n",
      "Saving scores for run 11...\n",
      "Saving scores for run 21...\n",
      "Saving scores for run 31...\n",
      "Saving scores for run 41...\n",
      "Saving scores for run 51...\n",
      "Saving scores for run 61...\n",
      "Saving scores for run 71...\n",
      "Saving scores for run 81...\n",
      "Saving scores for run 91...\n"
     ]
    }
   ],
   "source": [
    "for i in range(100):\n",
    "    if (i % 10) == 0:\n",
    "        print(f'Saving scores for run {i+1}...')\n",
    "    subset_idx = torch.randperm(len(fashion))[:100].numpy()\n",
    "    random_dset = SubsetTransformDataset(fashion, subset_indices=subset_idx, subset_transform=Deepfool(basenet))\n",
    "    net = full_train(random_dset)\n",
    "    scores = get_curv_scores_for_net(random_dset, net).cpu().numpy()\n",
    "    score_dict = dict(subset=subset_idx, scores=scores)\n",
    "    np.savez(f'curv_scores/deepfool_100_overshoot_02/run_{i+1}', **score_dict)"
   ]
  },
  {
   "cell_type": "code",
   "execution_count": 16,
   "metadata": {},
   "outputs": [
    {
     "name": "stdout",
     "output_type": "stream",
     "text": [
      "Saving scores for run 1...\n",
      "Saving scores for run 2...\n",
      "Saving scores for run 3...\n",
      "Saving scores for run 4...\n",
      "Saving scores for run 5...\n",
      "Saving scores for run 6...\n",
      "Saving scores for run 7...\n",
      "Saving scores for run 8...\n",
      "Saving scores for run 9...\n",
      "Saving scores for run 10...\n"
     ]
    }
   ],
   "source": [
    "for i in range(10):\n",
    "    print(f'Saving scores for run {i+1}...')\n",
    "    subset_idx = torch.randperm(len(fashion))[:500].numpy()\n",
    "    random_dset = SubsetTransformDataset(fashion, subset_indices=subset_idx, subset_transform=Deepfool(basenet))\n",
    "    net = full_train(random_dset)\n",
    "    scores = get_curv_scores_for_net(random_dset, net).cpu().numpy()\n",
    "    score_dict = dict(subset=subset_idx, scores=scores)\n",
    "    np.savez(f'curv_scores/deepfool_500_overshoot_02/run_{i+1}', **score_dict)"
   ]
  },
  {
   "cell_type": "code",
   "execution_count": 9,
   "metadata": {},
   "outputs": [],
   "source": [
    "def get_boundary_scores_for_net(train, net):\n",
    "    total = 0\n",
    "    scores = torch.zeros(len(train))\n",
    "    loader = torch.utils.data.DataLoader(dataset=train, batch_size=512, shuffle=False)\n",
    "    with torch.no_grad():\n",
    "        for i, data in enumerate(loader, 0):\n",
    "            # get the inputs; data is a list of [inputs, labels]\n",
    "            inputs, targets = data\n",
    "            inputs, targets = inputs.to('cuda'), targets.to('cuda')\n",
    "\n",
    "            start_idx = total\n",
    "            stop_idx = total + len(targets)\n",
    "            idxs = [j for j in range(start_idx, stop_idx)]\n",
    "            total = stop_idx\n",
    "\n",
    "            logits = net(inputs)\n",
    "            softmax_probs = F.softmax(logits, dim=1)\n",
    "            max_softmax, _ = torch.max(softmax_probs, dim=1)\n",
    "            \n",
    "            scores[idxs] = max_softmax.cpu()\n",
    "\n",
    "    return scores"
   ]
  },
  {
   "cell_type": "code",
   "execution_count": 10,
   "metadata": {},
   "outputs": [],
   "source": [
    "boundary = get_boundary_scores_for_net(fashion, basenet)"
   ]
  },
  {
   "cell_type": "code",
   "execution_count": 13,
   "metadata": {},
   "outputs": [
    {
     "data": {
      "text/plain": [
       "(array([   57.,   428.,  1061.,  2170.,  3018.,  3016.,  3361.,  4165.,\n",
       "         6170., 36554.]),\n",
       " array([0.1989146 , 0.27902314, 0.35913169, 0.43924022, 0.51934874,\n",
       "        0.59945726, 0.67956585, 0.75967437, 0.83978289, 0.91989142,\n",
       "        1.        ]),\n",
       " <BarContainer object of 10 artists>)"
      ]
     },
     "execution_count": 13,
     "metadata": {},
     "output_type": "execute_result"
    },
    {
     "data": {
      "image/png": "[encoded data removed]",
      "text/plain": [
       "<Figure size 640x480 with 1 Axes>"
      ]
     },
     "metadata": {},
     "output_type": "display_data"
    }
   ],
   "source": [
    "plt.hist(boundary)"
   ]
  },
  {
   "cell_type": "code",
   "execution_count": 17,
   "metadata": {},
   "outputs": [
    {
     "data": {
      "text/plain": [
       "array([10541, 47678, 59429, 37709, 15233, 57122, 36468, 23045, 29603,\n",
       "       44428])"
      ]
     },
     "execution_count": 17,
     "metadata": {},
     "output_type": "execute_result"
    }
   ],
   "source": [
    "_, indices = torch.topk(boundary, k=10, largest=False)\n",
    "indices.numpy()"
   ]
  },
  {
   "cell_type": "code",
   "execution_count": 10,
   "metadata": {},
   "outputs": [
    {
     "name": "stdout",
     "output_type": "stream",
     "text": [
      "Saving scores for run 1...\n",
      "Saving scores for run 2...\n",
      "Saving scores for run 3...\n",
      "Saving scores for run 4...\n",
      "Saving scores for run 5...\n",
      "Saving scores for run 6...\n",
      "Saving scores for run 7...\n",
      "Saving scores for run 8...\n",
      "Saving scores for run 9...\n",
      "Saving scores for run 10...\n"
     ]
    }
   ],
   "source": [
    "for i in range(10):\n",
    "    print(f'Saving scores for run {i+1}...')\n",
    "    basenet = full_train(fashion)\n",
    "    _, subset_idx = torch.topk(get_boundary_scores_for_net(fashion, basenet), k=10, largest=False)\n",
    "    random_dset = SubsetTransformDataset(fashion, subset_indices=subset_idx, subset_transform=ReplaceWithDataset(kmnist))\n",
    "    net = full_train(random_dset)\n",
    "    scores = get_curv_scores_for_net(random_dset, net).cpu().numpy()\n",
    "    score_dict = dict(subset=subset_idx, scores=scores)\n",
    "    np.savez(f'curv_scores/random_10_attack/run_{i+1}', **score_dict)\n",
    "    fool_dset = SubsetTransformDataset(fashion, subset_indices=subset_idx)\n",
    "    net = full_train(fool_dset)\n",
    "    scores = get_curv_scores_for_net(fool_dset, net).cpu().numpy()\n",
    "    score_dict = dict(subset=subset_idx, scores=scores)\n",
    "    np.savez(f'curv_scores/deepfool_10_overshoot_02_attack/run_{i+1}', **score_dict)"
   ]
  },
  {
   "cell_type": "code",
   "execution_count": 11,
   "metadata": {},
   "outputs": [
    {
     "name": "stdout",
     "output_type": "stream",
     "text": [
      "Saving scores for run 1...\n",
      "Saving scores for run 2...\n",
      "Saving scores for run 3...\n",
      "Saving scores for run 4...\n",
      "Saving scores for run 5...\n",
      "Saving scores for run 6...\n",
      "Saving scores for run 7...\n",
      "Saving scores for run 8...\n",
      "Saving scores for run 9...\n",
      "Saving scores for run 10...\n"
     ]
    }
   ],
   "source": [
    "for i in range(10):\n",
    "    print(f'Saving scores for run {i+1}...')\n",
    "    basenet = full_train(fashion)\n",
    "    _, subset_idx = torch.topk(get_boundary_scores_for_net(fashion, basenet), k=100, largest=False)\n",
    "    random_dset = SubsetTransformDataset(fashion, subset_indices=subset_idx, subset_transform=ReplaceWithDataset(kmnist))\n",
    "    net = full_train(random_dset)\n",
    "    scores = get_curv_scores_for_net(random_dset, net).cpu().numpy()\n",
    "    score_dict = dict(subset=subset_idx, scores=scores)\n",
    "    np.savez(f'curv_scores/random_100_attack/run_{i+1}', **score_dict)\n",
    "    fool_dset = SubsetTransformDataset(fashion, subset_indices=subset_idx)\n",
    "    net = full_train(fool_dset)\n",
    "    scores = get_curv_scores_for_net(fool_dset, net).cpu().numpy()\n",
    "    score_dict = dict(subset=subset_idx, scores=scores)\n",
    "    np.savez(f'curv_scores/deepfool_100_overshoot_02_attack/run_{i+1}', **score_dict)"
   ]
  },
  {
   "cell_type": "code",
   "execution_count": 12,
   "metadata": {},
   "outputs": [
    {
     "name": "stdout",
     "output_type": "stream",
     "text": [
      "Saving scores for run 1...\n",
      "Saving scores for run 2...\n",
      "Saving scores for run 3...\n",
      "Saving scores for run 4...\n",
      "Saving scores for run 5...\n",
      "Saving scores for run 6...\n",
      "Saving scores for run 7...\n",
      "Saving scores for run 8...\n",
      "Saving scores for run 9...\n",
      "Saving scores for run 10...\n"
     ]
    }
   ],
   "source": [
    "for i in range(10):\n",
    "    print(f'Saving scores for run {i+1}...')\n",
    "    basenet = full_train(fashion)\n",
    "    _, subset_idx = torch.topk(get_boundary_scores_for_net(fashion, basenet), k=1000, largest=False)\n",
    "    random_dset = SubsetTransformDataset(fashion, subset_indices=subset_idx, subset_transform=ReplaceWithDataset(kmnist))\n",
    "    net = full_train(random_dset)\n",
    "    scores = get_curv_scores_for_net(random_dset, net).cpu().numpy()\n",
    "    score_dict = dict(subset=subset_idx, scores=scores)\n",
    "    np.savez(f'curv_scores/random_1000_attack/run_{i+1}', **score_dict)\n",
    "    fool_dset = SubsetTransformDataset(fashion, subset_indices=subset_idx)\n",
    "    net = full_train(fool_dset)\n",
    "    scores = get_curv_scores_for_net(fool_dset, net).cpu().numpy()\n",
    "    score_dict = dict(subset=subset_idx, scores=scores)\n",
    "    np.savez(f'curv_scores/deepfool_1000_overshoot_02_attack/run_{i+1}', **score_dict)"
   ]
  },
  {
   "cell_type": "code",
   "execution_count": 14,
   "metadata": {},
   "outputs": [
    {
     "name": "stdout",
     "output_type": "stream",
     "text": [
      "Saving scores for run 1...\n",
      "Saving scores for run 2...\n",
      "Saving scores for run 3...\n",
      "Saving scores for run 4...\n",
      "Saving scores for run 5...\n",
      "Saving scores for run 6...\n",
      "Saving scores for run 7...\n",
      "Saving scores for run 8...\n",
      "Saving scores for run 9...\n",
      "Saving scores for run 10...\n"
     ]
    }
   ],
   "source": [
    "for i in range(10):\n",
    "    print(f'Saving scores for run {i+1}...')\n",
    "    basenet = full_train(fashion)\n",
    "    _, subset_idx = torch.topk(get_boundary_scores_for_net(fashion, basenet), k=500, largest=False)\n",
    "    random_dset = SubsetTransformDataset(fashion, subset_indices=subset_idx, subset_transform=ReplaceWithDataset(kmnist))\n",
    "    net = full_train(random_dset)\n",
    "    scores = get_curv_scores_for_net(random_dset, net).cpu().numpy()\n",
    "    score_dict = dict(subset=subset_idx, scores=scores)\n",
    "    np.savez(f'curv_scores/random_500_attack/run_{i+1}', **score_dict)\n",
    "    fool_dset = SubsetTransformDataset(fashion, subset_indices=subset_idx)\n",
    "    net = full_train(fool_dset)\n",
    "    scores = get_curv_scores_for_net(fool_dset, net).cpu().numpy()\n",
    "    score_dict = dict(subset=subset_idx, scores=scores)\n",
    "    np.savez(f'curv_scores/deepfool_500_overshoot_02_attack/run_{i+1}', **score_dict)"
   ]
  },
  {
   "cell_type": "code",
   "execution_count": 16,
   "metadata": {},
   "outputs": [
    {
     "name": "stdout",
     "output_type": "stream",
     "text": [
      "Saving scores for run 1...\n",
      "Saving scores for run 2...\n",
      "Saving scores for run 3...\n",
      "Saving scores for run 4...\n",
      "Saving scores for run 5...\n",
      "Saving scores for run 6...\n",
      "Saving scores for run 7...\n",
      "Saving scores for run 8...\n",
      "Saving scores for run 9...\n",
      "Saving scores for run 10...\n"
     ]
    }
   ],
   "source": [
    "for i in range(10):\n",
    "    print(f'Saving scores for run {i+1}...')\n",
    "    basenet = full_train(fashion)\n",
    "    scores = get_curv_scores_for_net(random_dset, basenet).cpu().numpy()\n",
    "    score_dict = dict(subset=np.array([]), scores=scores)\n",
    "    np.savez(f'curv_scores/base/run_{i+1}', **score_dict)"
   ]
  },
  {
   "cell_type": "code",
   "execution_count": null,
   "metadata": {},
   "outputs": [],
   "source": []
  }
 ],
 "metadata": {
  "kernelspec": {
   "display_name": "base",
   "language": "python",
   "name": "python3"
  },
  "language_info": {
   "codemirror_mode": {
    "name": "ipython",
    "version": 3
   },
   "file_extension": ".py",
   "mimetype": "text/x-python",
   "name": "python",
   "nbconvert_exporter": "python",
   "pygments_lexer": "ipython3",
   "version": "3.12.3"
  }
 },
 "nbformat": 4,
 "nbformat_minor": 2
}

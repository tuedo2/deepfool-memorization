{
 "cells": [
  {
   "cell_type": "code",
   "execution_count": 1,
   "metadata": {},
   "outputs": [],
   "source": [
    "import torch\n",
    "import torchvision\n",
    "import torch.nn as nn\n",
    "import torchvision.transforms as transforms\n",
    "from torch.autograd import Variable\n",
    "import torch.nn.functional as F\n",
    "import torch.optim as optim\n",
    "import numpy as np"
   ]
  },
  {
   "cell_type": "code",
   "execution_count": 2,
   "metadata": {},
   "outputs": [],
   "source": [
    "device = torch.device(f'cuda' if torch.cuda.is_available() else 'cpu')"
   ]
  },
  {
   "cell_type": "code",
   "execution_count": 3,
   "metadata": {},
   "outputs": [],
   "source": [
    "transform = transforms.Compose([transforms.ToTensor()])\n",
    "fashion = torchvision.datasets.FashionMNIST(root='./data', train=True, transform=transform, download=False)\n",
    "test = torchvision.datasets.FashionMNIST(root='./data', train=False, transform=transform, download=False)\n",
    "batch_size=256"
   ]
  },
  {
   "cell_type": "code",
   "execution_count": 4,
   "metadata": {},
   "outputs": [],
   "source": [
    "from cnn import CNN"
   ]
  },
  {
   "cell_type": "code",
   "execution_count": 5,
   "metadata": {},
   "outputs": [],
   "source": [
    "trainloader = torch.utils.data.DataLoader(dataset=fashion, batch_size=128, shuffle=True)\n",
    "testloader = torch.utils.data.DataLoader(dataset=test, batch_size=128, shuffle=False)"
   ]
  },
  {
   "cell_type": "code",
   "execution_count": 6,
   "metadata": {},
   "outputs": [],
   "source": [
    "def load_subset(idx):\n",
    "    f_path = f'subsets/split_{idx}'\n",
    "    with open(f_path, 'rb') as f:\n",
    "        subset = np.load(f)\n",
    "    return subset"
   ]
  },
  {
   "cell_type": "code",
   "execution_count": 7,
   "metadata": {},
   "outputs": [],
   "source": [
    "def load_model(idx):\n",
    "    f_path = f'models/split_{idx}'\n",
    "    model = CNN(10)\n",
    "    model.load_state_dict(torch.load(f_path, weights_only=True))\n",
    "    model.to(device)\n",
    "    return model"
   ]
  },
  {
   "cell_type": "code",
   "execution_count": 11,
   "metadata": {},
   "outputs": [],
   "source": [
    "def get_correctness_for_model(model):\n",
    "    model.eval()\n",
    "    trainset_correctness = []\n",
    "    with torch.no_grad():\n",
    "        for inputs, targets in trainloader:\n",
    "            inputs, targets = inputs.to(device), targets.to(device)\n",
    "\n",
    "            outputs = model(inputs)\n",
    "            _, predicted = torch.max(outputs.data, 1)\n",
    "\n",
    "            correctness = (predicted == targets).float()\n",
    "            trainset_correctness.append(correctness)\n",
    "    \n",
    "    trainset_correctness = torch.cat(trainset_correctness).cpu()\n",
    "    return trainset_correctness"
   ]
  },
  {
   "cell_type": "code",
   "execution_count": null,
   "metadata": {},
   "outputs": [],
   "source": [
    "def get_correctness():\n",
    "    results = []\n",
    "    for idx in range(2000):\n",
    "        if (idx+1) % 100 == 0:\n",
    "            print(f'Loading results for idx {idx}...')\n",
    "        subset_idx = load_subset(idx)\n",
    "        mask = np.zeros(len(fashion), dtype=bool)\n",
    "        mask[subset_idx] = True\n",
    "        model = load_model(idx)\n",
    "        correctness = get_correctness_for_model(model)\n",
    "        results.append((mask, correctness))\n",
    "    \n",
    "    mask_matrix = np.vstack([ret[0] for ret in results])\n",
    "    correctness_matrix = np.vstack([ret[1] for ret in results])\n",
    "\n",
    "    return mask_matrix, correctness_matrix"
   ]
  },
  {
   "cell_type": "code",
   "execution_count": 13,
   "metadata": {},
   "outputs": [
    {
     "name": "stdout",
     "output_type": "stream",
     "text": [
      "Loading results for idx 99...\n",
      "Loading results for idx 199...\n",
      "Loading results for idx 299...\n",
      "Loading results for idx 399...\n",
      "Loading results for idx 499...\n",
      "Loading results for idx 599...\n",
      "Loading results for idx 699...\n",
      "Loading results for idx 799...\n",
      "Loading results for idx 899...\n",
      "Loading results for idx 999...\n",
      "Loading results for idx 1099...\n",
      "Loading results for idx 1199...\n",
      "Loading results for idx 1299...\n",
      "Loading results for idx 1399...\n",
      "Loading results for idx 1499...\n",
      "Loading results for idx 1599...\n",
      "Loading results for idx 1699...\n",
      "Loading results for idx 1799...\n",
      "Loading results for idx 1899...\n",
      "Loading results for idx 1999...\n"
     ]
    }
   ],
   "source": [
    "trainset_mask, trainset_correctness = get_correctness()\n",
    "with open('correctness.npy', 'wb') as f:\n",
    "    np.save(f, trainset_correctness)\n",
    "with open('trainset_mask.py', 'wb') as f:\n",
    "    np.save(f, trainset_mask)"
   ]
  },
  {
   "cell_type": "code",
   "execution_count": 15,
   "metadata": {},
   "outputs": [
    {
     "data": {
      "text/plain": [
       "(array([[ True, False,  True, ..., False, False,  True],\n",
       "        [False,  True, False, ...,  True,  True, False],\n",
       "        [False, False, False, ...,  True, False,  True],\n",
       "        ...,\n",
       "        [ True, False,  True, ...,  True,  True, False],\n",
       "        [False, False,  True, ...,  True, False, False],\n",
       "        [ True,  True, False, ..., False,  True,  True]],\n",
       "       shape=(2000, 60000)),\n",
       " array([[0., 1., 1., ..., 1., 1., 0.],\n",
       "        [0., 1., 1., ..., 0., 1., 0.],\n",
       "        [0., 1., 1., ..., 1., 1., 0.],\n",
       "        ...,\n",
       "        [0., 0., 1., ..., 1., 1., 1.],\n",
       "        [1., 1., 1., ..., 1., 1., 1.],\n",
       "        [1., 0., 0., ..., 0., 0., 1.]], shape=(2000, 60000), dtype=float32))"
      ]
     },
     "execution_count": 15,
     "metadata": {},
     "output_type": "execute_result"
    }
   ],
   "source": [
    "trainset_mask, trainset_correctness"
   ]
  },
  {
   "cell_type": "code",
   "execution_count": 16,
   "metadata": {},
   "outputs": [],
   "source": [
    "inv_mask = np.logical_not(trainset_mask)"
   ]
  },
  {
   "cell_type": "code",
   "execution_count": 17,
   "metadata": {},
   "outputs": [],
   "source": [
    "def masked_avg(x, mask, axis=0, esp=1e-10):\n",
    "    return (np.sum(x * mask, axis=axis) / np.maximum(np.sum(mask, axis=axis), esp)).astype(np.float32)"
   ]
  },
  {
   "cell_type": "code",
   "execution_count": 18,
   "metadata": {},
   "outputs": [
    {
     "data": {
      "text/plain": [
       "array([ 0.023     ,  0.02399999, -0.00300002, ...,  0.02399999,\n",
       "        0.01800001,  0.00600001], shape=(60000,), dtype=float32)"
      ]
     },
     "execution_count": 18,
     "metadata": {},
     "output_type": "execute_result"
    }
   ],
   "source": [
    "mem_est = masked_avg(trainset_correctness, trainset_mask) - masked_avg(trainset_correctness, inv_mask)\n",
    "mem_est"
   ]
  },
  {
   "cell_type": "code",
   "execution_count": 21,
   "metadata": {},
   "outputs": [
    {
     "data": {
      "image/png": "[encoded data removed]",
      "text/plain": [
       "<Figure size 640x480 with 1 Axes>"
      ]
     },
     "metadata": {},
     "output_type": "display_data"
    }
   ],
   "source": [
    "import matplotlib.pyplot as plt\n",
    "plt.hist(mem_est, bins=40)\n",
    "plt.show()"
   ]
  },
  {
   "cell_type": "code",
   "execution_count": 26,
   "metadata": {},
   "outputs": [
    {
     "data": {
      "text/plain": [
       "array([1000, 1000, 1000, ..., 1000, 1000, 1000], shape=(60000,))"
      ]
     },
     "execution_count": 26,
     "metadata": {},
     "output_type": "execute_result"
    }
   ],
   "source": [
    "np.sum(trainset_mask, axis=0)"
   ]
  },
  {
   "cell_type": "code",
   "execution_count": null,
   "metadata": {},
   "outputs": [],
   "source": []
  }
 ],
 "metadata": {
  "kernelspec": {
   "display_name": "base",
   "language": "python",
   "name": "python3"
  },
  "language_info": {
   "codemirror_mode": {
    "name": "ipython",
    "version": 3
   },
   "file_extension": ".py",
   "mimetype": "text/x-python",
   "name": "python",
   "nbconvert_exporter": "python",
   "pygments_lexer": "ipython3",
   "version": "3.12.3"
  }
 },
 "nbformat": 4,
 "nbformat_minor": 2
}

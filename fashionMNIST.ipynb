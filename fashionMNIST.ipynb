{
 "cells": [
  {
   "cell_type": "code",
   "execution_count": 1,
   "metadata": {},
   "outputs": [],
   "source": [
    "import torch\n",
    "import torchvision\n",
    "import torch.nn as nn\n",
    "import torchvision.transforms as transforms\n",
    "from torch.autograd import Variable\n",
    "import torch.nn.functional as F\n",
    "import torch.optim as optim\n",
    "import numpy as np"
   ]
  },
  {
   "cell_type": "code",
   "execution_count": 2,
   "metadata": {},
   "outputs": [],
   "source": [
    "device = torch.device(f'cuda' if torch.cuda.is_available() else 'cpu')"
   ]
  },
  {
   "cell_type": "code",
   "execution_count": 3,
   "metadata": {},
   "outputs": [],
   "source": [
    "transform = transforms.Compose([transforms.ToTensor()])\n",
    "fashion = torchvision.datasets.FashionMNIST(root='./data', train=True, transform=transform, download=False)\n",
    "test = torchvision.datasets.FashionMNIST(root='./data', train=False, transform=transform, download=False)\n",
    "batch_size=256"
   ]
  },
  {
   "cell_type": "code",
   "execution_count": 4,
   "metadata": {},
   "outputs": [],
   "source": [
    "from cnn import CNN"
   ]
  },
  {
   "cell_type": "code",
   "execution_count": 5,
   "metadata": {},
   "outputs": [],
   "source": [
    "trainloader = torch.utils.data.DataLoader(dataset=fashion, batch_size=128, shuffle=True)\n",
    "testloader = torch.utils.data.DataLoader(dataset=test, batch_size=128, shuffle=False)"
   ]
  },
  {
   "cell_type": "code",
   "execution_count": 6,
   "metadata": {},
   "outputs": [],
   "source": [
    "def load_subset(idx):\n",
    "    f_path = f'subsets/split_{idx}'\n",
    "    with open(f_path, 'rb') as f:\n",
    "        subset = np.load(f)\n",
    "    return subset"
   ]
  },
  {
   "cell_type": "code",
   "execution_count": 7,
   "metadata": {},
   "outputs": [],
   "source": [
    "def load_model(idx):\n",
    "    f_path = f'models/split_{idx}'\n",
    "    model = CNN(10)\n",
    "    model.load_state_dict(torch.load(f_path, weights_only=True))\n",
    "    model.to(device)\n",
    "    return model"
   ]
  },
  {
   "cell_type": "code",
   "execution_count": 11,
   "metadata": {},
   "outputs": [],
   "source": [
    "def get_correctness_for_model(model):\n",
    "    model.eval()\n",
    "    trainset_correctness = []\n",
    "    with torch.no_grad():\n",
    "        for inputs, targets in trainloader:\n",
    "            inputs, targets = inputs.to(device), targets.to(device)\n",
    "\n",
    "            outputs = model(inputs)\n",
    "            _, predicted = torch.max(outputs.data, 1)\n",
    "\n",
    "            correctness = (predicted == targets).float()\n",
    "            trainset_correctness.append(correctness)\n",
    "    \n",
    "    trainset_correctness = torch.cat(trainset_correctness).cpu()\n",
    "    return trainset_correctness"
   ]
  },
  {
   "cell_type": "code",
   "execution_count": null,
   "metadata": {},
   "outputs": [],
   "source": [
    "def get_correctness():\n",
    "    results = []\n",
    "    for idx in range(2000):\n",
    "        if (idx+1) % 100 == 0:\n",
    "            print(f'Loading results for idx {idx}...')\n",
    "        subset_idx = load_subset(idx)\n",
    "        mask = np.zeros(len(fashion), dtype=bool)\n",
    "        mask[subset_idx] = True\n",
    "        model = load_model(idx)\n",
    "        correctness = get_correctness_for_model(model)\n",
    "        results.append((mask, correctness))\n",
    "    \n",
    "    mask_matrix = np.vstack([ret[0] for ret in results])\n",
    "    correctness_matrix = np.vstack([ret[1] for ret in results])\n",
    "\n",
    "    return mask_matrix, correctness_matrix"
   ]
  },
  {
   "cell_type": "code",
   "execution_count": null,
   "metadata": {},
   "outputs": [
    {
     "name": "stdout",
     "output_type": "stream",
     "text": [
      "Loading results for idx 99...\n"
     ]
    }
   ],
   "source": [
    "trainset_mask, trainset_correctness = get_correctness()\n",
    "with open('correctness.npy', 'wb') as f:\n",
    "    np.save(f, trainset_correctness)\n",
    "with open('trainset_mask.py', 'wb') as f:\n",
    "    np.save(f, trainset_mask)"
   ]
  },
  {
   "cell_type": "code",
   "execution_count": null,
   "metadata": {},
   "outputs": [],
   "source": []
  }
 ],
 "metadata": {
  "kernelspec": {
   "display_name": "base",
   "language": "python",
   "name": "python3"
  },
  "language_info": {
   "codemirror_mode": {
    "name": "ipython",
    "version": 3
   },
   "file_extension": ".py",
   "mimetype": "text/x-python",
   "name": "python",
   "nbconvert_exporter": "python",
   "pygments_lexer": "ipython3",
   "version": "3.12.3"
  }
 },
 "nbformat": 4,
 "nbformat_minor": 2
}

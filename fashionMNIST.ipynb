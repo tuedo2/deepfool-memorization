{
 "cells": [
  {
   "cell_type": "code",
   "execution_count": 1,
   "metadata": {},
   "outputs": [],
   "source": [
    "import torch\n",
    "import torchvision\n",
    "import torch.nn as nn\n",
    "import torchvision.transforms as transforms\n",
    "from torch.autograd import Variable\n",
    "import torch.nn.functional as F\n",
    "import torch.optim as optim\n",
    "import numpy as np\n",
    "\n",
    "import matplotlib.pyplot as plt"
   ]
  },
  {
   "cell_type": "code",
   "execution_count": 2,
   "metadata": {},
   "outputs": [],
   "source": [
    "device = torch.device(f'cuda' if torch.cuda.is_available() else 'cpu')"
   ]
  },
  {
   "cell_type": "code",
   "execution_count": 3,
   "metadata": {},
   "outputs": [],
   "source": [
    "transform = transforms.Compose([transforms.ToTensor()])\n",
    "fashion = torchvision.datasets.FashionMNIST(root='./data', train=True, transform=transform, download=False)\n",
    "test = torchvision.datasets.FashionMNIST(root='./data', train=False, transform=transform, download=False)\n",
    "batch_size=256"
   ]
  },
  {
   "cell_type": "code",
   "execution_count": 4,
   "metadata": {},
   "outputs": [],
   "source": [
    "from cnn import CNN"
   ]
  },
  {
   "cell_type": "code",
   "execution_count": 6,
   "metadata": {},
   "outputs": [],
   "source": [
    "trainloader = torch.utils.data.DataLoader(dataset=fashion, batch_size=128, shuffle=False)\n",
    "testloader = torch.utils.data.DataLoader(dataset=test, batch_size=128, shuffle=False)"
   ]
  },
  {
   "cell_type": "code",
   "execution_count": 8,
   "metadata": {},
   "outputs": [],
   "source": [
    "def load_subset(idx):\n",
    "    f_path = f'subsets/split_{idx}'\n",
    "    with open(f_path, 'rb') as f:\n",
    "        subset = np.load(f)\n",
    "    return subset"
   ]
  },
  {
   "cell_type": "code",
   "execution_count": 9,
   "metadata": {},
   "outputs": [],
   "source": [
    "def load_model(idx):\n",
    "    f_path = f'models/split_{idx}'\n",
    "    model = CNN(10)\n",
    "    model.load_state_dict(torch.load(f_path, weights_only=True))\n",
    "    model.to(device)\n",
    "    return model"
   ]
  },
  {
   "cell_type": "code",
   "execution_count": 10,
   "metadata": {},
   "outputs": [],
   "source": [
    "def get_correctness_for_model(model):\n",
    "    model.eval()\n",
    "    trainset_correctness = []\n",
    "    with torch.no_grad():\n",
    "        for inputs, targets in trainloader:\n",
    "            inputs, targets = inputs.to(device), targets.to(device)\n",
    "\n",
    "            outputs = model(inputs)\n",
    "            _, predicted = torch.max(outputs.data, 1)\n",
    "\n",
    "            correctness = (predicted == targets).float()\n",
    "            trainset_correctness.append(correctness)\n",
    "    \n",
    "    trainset_correctness = torch.cat(trainset_correctness).cpu()\n",
    "    return trainset_correctness"
   ]
  },
  {
   "cell_type": "code",
   "execution_count": 12,
   "metadata": {},
   "outputs": [],
   "source": [
    "def get_correctness():\n",
    "    results = []\n",
    "    for idx in range(2000):\n",
    "        if (idx+1) % 100 == 0:\n",
    "            print(f'Loading results for idx {idx+1}...')\n",
    "        subset_idx = load_subset(idx)\n",
    "        mask = np.zeros(len(fashion), dtype=bool)\n",
    "        mask[subset_idx] = True\n",
    "        model = load_model(idx)\n",
    "        correctness = get_correctness_for_model(model)\n",
    "        results.append((mask, correctness))\n",
    "    \n",
    "    mask_matrix = np.vstack([ret[0] for ret in results])\n",
    "    correctness_matrix = np.vstack([ret[1] for ret in results])\n",
    "\n",
    "    return mask_matrix, correctness_matrix"
   ]
  },
  {
   "cell_type": "code",
   "execution_count": 13,
   "metadata": {},
   "outputs": [
    {
     "name": "stdout",
     "output_type": "stream",
     "text": [
      "Loading results for idx 100...\n",
      "Loading results for idx 200...\n",
      "Loading results for idx 300...\n",
      "Loading results for idx 400...\n",
      "Loading results for idx 500...\n",
      "Loading results for idx 600...\n",
      "Loading results for idx 700...\n",
      "Loading results for idx 800...\n",
      "Loading results for idx 900...\n",
      "Loading results for idx 1000...\n",
      "Loading results for idx 1100...\n",
      "Loading results for idx 1200...\n",
      "Loading results for idx 1300...\n",
      "Loading results for idx 1400...\n",
      "Loading results for idx 1500...\n",
      "Loading results for idx 1600...\n",
      "Loading results for idx 1700...\n",
      "Loading results for idx 1800...\n",
      "Loading results for idx 1900...\n",
      "Loading results for idx 2000...\n"
     ]
    }
   ],
   "source": [
    "trainset_mask, trainset_correctness = get_correctness()\n",
    "with open('correctness.npy', 'wb') as f:\n",
    "    np.save(f, trainset_correctness)\n",
    "with open('trainset_mask.npy', 'wb') as f:\n",
    "    np.save(f, trainset_mask)"
   ]
  },
  {
   "cell_type": "code",
   "execution_count": 14,
   "metadata": {},
   "outputs": [],
   "source": [
    "trainset_mask, trainset_correctness = np.load('trainset_mask.npy'), np.load('correctness.npy')"
   ]
  },
  {
   "cell_type": "code",
   "execution_count": 15,
   "metadata": {},
   "outputs": [],
   "source": [
    "inv_mask = np.logical_not(trainset_mask)"
   ]
  },
  {
   "cell_type": "code",
   "execution_count": 16,
   "metadata": {},
   "outputs": [],
   "source": [
    "def masked_avg(x, mask, axis=0, esp=1e-10):\n",
    "    return (np.sum(x * mask, axis=axis) / np.maximum(np.sum(mask, axis=axis), esp)).astype(np.float32)"
   ]
  },
  {
   "cell_type": "code",
   "execution_count": 17,
   "metadata": {},
   "outputs": [
    {
     "data": {
      "text/plain": [
       "array([-0.00700003,  0.01100004, -0.001     , ...,  0.00800002,\n",
       "        0.02500001,  0.039     ], shape=(60000,), dtype=float32)"
      ]
     },
     "execution_count": 17,
     "metadata": {},
     "output_type": "execute_result"
    }
   ],
   "source": [
    "mem_est = masked_avg(trainset_correctness, trainset_mask) - masked_avg(trainset_correctness, inv_mask)\n",
    "mem_est"
   ]
  },
  {
   "cell_type": "code",
   "execution_count": 18,
   "metadata": {},
   "outputs": [
    {
     "data": {
      "image/png": "[encoded data removed]",
      "text/plain": [
       "<Figure size 640x480 with 1 Axes>"
      ]
     },
     "metadata": {},
     "output_type": "display_data"
    }
   ],
   "source": [
    "plt.hist(mem_est, bins=40)\n",
    "plt.show()"
   ]
  },
  {
   "cell_type": "code",
   "execution_count": 19,
   "metadata": {},
   "outputs": [
    {
     "data": {
      "text/plain": [
       "np.float32(0.096000016)"
      ]
     },
     "execution_count": 19,
     "metadata": {},
     "output_type": "execute_result"
    }
   ],
   "source": [
    "np.max(mem_est)"
   ]
  },
  {
   "cell_type": "code",
   "execution_count": 2,
   "metadata": {},
   "outputs": [],
   "source": [
    "with open('infl_mem.npz', 'rb') as f:\n",
    "    feldman_dict = np.load('infl_mem.npz')"
   ]
  },
  {
   "cell_type": "code",
   "execution_count": 5,
   "metadata": {},
   "outputs": [],
   "source": [
    "feldman_memorization = feldman_dict['memorization']"
   ]
  },
  {
   "cell_type": "code",
   "execution_count": 10,
   "metadata": {},
   "outputs": [
    {
     "data": {
      "image/png": "[encoded data removed]",
      "text/plain": [
       "<Figure size 640x480 with 1 Axes>"
      ]
     },
     "metadata": {},
     "output_type": "display_data"
    }
   ],
   "source": [
    "plt.hist(feldman_memorization, bins=40)\n",
    "plt.title('Feldman JAX Memorization Results')\n",
    "plt.xlabel('memorization score')\n",
    "plt.show()"
   ]
  },
  {
   "cell_type": "code",
   "execution_count": 5,
   "metadata": {},
   "outputs": [],
   "source": [
    "base_curv_scores = torch.load('./curv_scores/base.pt', weights_only=False)"
   ]
  },
  {
   "cell_type": "code",
   "execution_count": 7,
   "metadata": {},
   "outputs": [
    {
     "data": {
      "text/plain": [
       "(array([5.1568e+04, 5.9320e+03, 1.3170e+03, 4.9400e+02, 3.0400e+02,\n",
       "        1.7700e+02, 1.0600e+02, 6.5000e+01, 2.8000e+01, 5.0000e+00,\n",
       "        1.0000e+00, 1.0000e+00, 0.0000e+00, 1.0000e+00, 0.0000e+00,\n",
       "        0.0000e+00, 0.0000e+00, 0.0000e+00, 0.0000e+00, 0.0000e+00,\n",
       "        0.0000e+00, 0.0000e+00, 0.0000e+00, 0.0000e+00, 0.0000e+00,\n",
       "        0.0000e+00, 0.0000e+00, 0.0000e+00, 0.0000e+00, 0.0000e+00,\n",
       "        0.0000e+00, 0.0000e+00, 0.0000e+00, 0.0000e+00, 0.0000e+00,\n",
       "        0.0000e+00, 0.0000e+00, 0.0000e+00, 0.0000e+00, 1.0000e+00]),\n",
       " array([8.02781563e-10, 5.59370150e-04, 1.11873948e-03, 1.67810882e-03,\n",
       "        2.23747804e-03, 2.79684737e-03, 3.35621671e-03, 3.91558651e-03,\n",
       "        4.47495561e-03, 5.03432471e-03, 5.59369428e-03, 6.15306385e-03,\n",
       "        6.71243295e-03, 7.27180205e-03, 7.83117209e-03, 8.39054119e-03,\n",
       "        8.94991029e-03, 9.50927939e-03, 1.00686485e-02, 1.06280185e-02,\n",
       "        1.11873876e-02, 1.17467567e-02, 1.23061268e-02, 1.28654959e-02,\n",
       "        1.34248650e-02, 1.39842341e-02, 1.45436032e-02, 1.51029732e-02,\n",
       "        1.56623423e-02, 1.62217114e-02, 1.67810805e-02, 1.73404496e-02,\n",
       "        1.78998187e-02, 1.84591878e-02, 1.90185569e-02, 1.95779260e-02,\n",
       "        2.01372951e-02, 2.06966661e-02, 2.12560352e-02, 2.18154043e-02,\n",
       "        2.23747734e-02]),\n",
       " <BarContainer object of 40 artists>)"
      ]
     },
     "execution_count": 7,
     "metadata": {},
     "output_type": "execute_result"
    },
    {
     "data": {
      "image/png": "[encoded data removed]",
      "text/plain": [
       "<Figure size 640x480 with 1 Axes>"
      ]
     },
     "metadata": {},
     "output_type": "display_data"
    }
   ],
   "source": [
    "plt.hist(base_curv_scores, bins=40)"
   ]
  },
  {
   "cell_type": "code",
   "execution_count": null,
   "metadata": {},
   "outputs": [],
   "source": []
  }
 ],
 "metadata": {
  "kernelspec": {
   "display_name": "base",
   "language": "python",
   "name": "python3"
  },
  "language_info": {
   "codemirror_mode": {
    "name": "ipython",
    "version": 3
   },
   "file_extension": ".py",
   "mimetype": "text/x-python",
   "name": "python",
   "nbconvert_exporter": "python",
   "pygments_lexer": "ipython3",
   "version": "3.12.3"
  }
 },
 "nbformat": 4,
 "nbformat_minor": 2
}
